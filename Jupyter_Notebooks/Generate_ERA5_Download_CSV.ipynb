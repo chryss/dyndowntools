{
 "cells": [
  {
   "cell_type": "code",
   "execution_count": 5,
   "id": "ad423c56",
   "metadata": {},
   "outputs": [],
   "source": [
    "months = range(1, 13)\n",
    "years = range(1979, 2021)\n",
    "var = 'snow_depth'"
   ]
  },
  {
   "cell_type": "code",
   "execution_count": 2,
   "id": "3bb85e38",
   "metadata": {},
   "outputs": [],
   "source": [
    "fn = 'cw_era5_download_20211007.csv'"
   ]
  },
  {
   "cell_type": "code",
   "execution_count": 7,
   "id": "29289768",
   "metadata": {},
   "outputs": [],
   "source": [
    "with open(fn, 'w') as dst:\n",
    "    dst.write('var,year,month\\n')\n",
    "    for yr in years:\n",
    "        for mth in months:\n",
    "            dst.write(f'{var},{yr},{str(mth).zfill(2)}\\n')"
   ]
  }
 ],
 "metadata": {
  "kernelspec": {
   "display_name": "Python 3 (ipykernel)",
   "language": "python",
   "name": "python3"
  },
  "language_info": {
   "codemirror_mode": {
    "name": "ipython",
    "version": 3
   },
   "file_extension": ".py",
   "mimetype": "text/x-python",
   "name": "python",
   "nbconvert_exporter": "python",
   "pygments_lexer": "ipython3",
   "version": "3.8.0"
  }
 },
 "nbformat": 4,
 "nbformat_minor": 5
}
