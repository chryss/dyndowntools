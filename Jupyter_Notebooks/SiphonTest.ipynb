{
 "cells": [
  {
   "cell_type": "code",
   "execution_count": 5,
   "id": "c4c856fe-1ffd-4d53-92b8-06f5537839c4",
   "metadata": {},
   "outputs": [],
   "source": [
    "import xarray as xr\n",
    "import datetime as dt\n",
    "from dotenv import load_dotenv\n",
    "import os\n",
    "import matplotlib.pyplot as plt\n",
    "from netCDF4 import num2date\n",
    "from siphon.catalog import get_latest_access_url, TDSCatalog\n",
    "from siphon.http_util import session_manager\n",
    "from siphon.ncss import NCSS"
   ]
  },
  {
   "cell_type": "code",
   "execution_count": 6,
   "id": "cb98ffb7",
   "metadata": {},
   "outputs": [],
   "source": [
    "load_dotenv()\n",
    "rdauser = os.getenv(\"RDAUSER\")\n",
    "rdapass = os.getenv(\"RDAPASS\")\n",
    "session_manager.set_session_options(auth=('rdauser', 'rdapass'))"
   ]
  },
  {
   "cell_type": "code",
   "execution_count": 18,
   "id": "64289fc5",
   "metadata": {},
   "outputs": [
    {
     "name": "stdout",
     "output_type": "stream",
     "text": [
      "['ds083.2 NCEP FNL Operational Model Global Tropospheric Analyses', 'ds083.3 NCEP GDAS/FNL 0.25 Degree Global Tropospheric Analyses and Forecast Grids', 'ds084.1 NCEP GFS 0.25 Degree Global Forecast Grids', 'ds084.3 NCEP GFS 0.25 Degree Global Forecast Auxiliary Grids Historical Archive', 'ds084.4 NCEP GDAS/FNL Surface Flux Grids', 'ds091.0 NCEP/DOE Reanalysis 2 (R2)', 'ds093.0 NCEP Climate Forecast System Reanalysis (CFSR) 6-hourly Products, January 1979 to December 2010', 'ds093.1 NCEP Climate Forecast System Reanalysis (CFSR) Selected Hourly Time-Series Products, January 1979 to December 2010', 'ds093.2 NCEP Climate Forecast System Reanalysis (CFSR) Monthly Products, January 1979 to December 2010', 'ds094.0 NCEP Climate Forecast System Version 2 (CFSv2) 6-hourly Products', 'ds094.1 NCEP Climate Forecast System Version 2 (CFSv2) Selected Hourly Time-Series Products', 'ds094.2 NCEP Climate Forecast System Version 2 (CFSv2) Monthly Products', \"ds113.0 ECMWF's Operational Model Analysis, starting in 2011\", 'ds113.1 ECMWF IFS CY41r2 High-Resolution Operational Forecasts, staring in 2016 ', 'ds131.2 NOAA/CIRES Twentieth Century Global Reanalysis Version 2c', 'ds131.3 NOAA/CIRES Twentieth Century Global Reanalysis Version 3', 'ds193.0 Global Hourly 0.5-degree Land Surface Air Temperature Datasets', 'ds197.0 Great Plains Low-Level Jet Occurrence and Upper-Level Coupling in CERA-20C', 'ds260.4 SAMOS Air-Sea Fluxes: 2005-2014', 'ds262.0 Coordinated Ocean-ice Reference Experiments - Phase II', 'ds277.6 NCEP Global Ocean Data Assimilation System (GODAS)', 'ds277.8 RSS Optimally Interpolated Microwave and Infrared Daily Sea Surface Temperature Analysis', 'ds277.9 NOAA NCEI Extended Reconstructed Sea Surface Temperature', 'ds285.3 Subsurface Temperature And Salinity Analyses by Ishii et al.', 'ds285.5 RSS SMAP Sea Surface Salinity Analysis', 'ds298.0 Standardized Precipitation Index (SPI) for Global Land Surface (1949-2012)', 'ds299.0 Dai Global Palmer Drought Severity Index (PDSI)', 'ds300.0 NCAR MMM 10-member, 3 km, experimental real-time ensemble prediction system', 'ds312.9 Fire Inventory from NCAR version 2 Fire Emission', 'ds313.0 GEOS5 Global Atmosphere Forcing Data', 'ds313.2 MERRA2 Global Forcing data for CESM2 Applications', 'ds313.3 MERRA2 Global Atmosphere Forcing Data', 'ds313.6 Whole Atmosphere Community Climate Model (WACCM) Model Output', 'ds313.7 CESM2.1 The Community Atmosphere Model with Chemistry (CAM-chem) Outputs as Boundary Conditions', 'ds313.8 CESM2.2 CAM-chem as Boundary Conditions', 'ds314.0 Global Meteorological Forcing Dataset for Land Surface Modeling', 'ds314.1 WATer and global CHange (WATCH) Forcing Data (WFD) - 20th Century', 'ds314.2 The WFDEI Meteorological Forcing Data', 'ds314.3 CRUNCEP Version 7 - Atmospheric Forcing Data for the Community Land Model', 'ds316.0 NCAR Community Earth System Model, EaSM Project Dataset', 'ds335.0 Historical Unidata Internet Data Distribution (IDD) Gridded Model Data', 'ds336.0 Historical Unidata Internet Data Distribution (IDD) Global Observational Data, May 2003 - current', 'ds340.0 The WRF Model coupled with Chemistry (WRF-Chem) Forecast Output over CONUS', 'ds342.0 NCAR/MOPITT Reanalysis', 'ds345.0 CAM6 Data Assimilation Research Testbed (DART) Reanalysis', 'ds463.4 U.K. Met Office Hadley Centre Global Sub-Daily Station Observations (HadISD)', 'ds496.0 GPCC Full Data Reanalysis Version 7.0: Monthly Land-Surface Precipitation from Rain Gauges built on GTS based and Historic Data', 'ds497.0 GPCC Full Data Daily Version 1.0: Daily Land-Surface Precipitation from Rain Gauges built on GTS based and Historic Data', 'ds502.0 NOAA CPC Morphing Technique (CMORPH) Global Precipitation Analyses', 'ds502.1 NOAA CPC Morphing Technique (CMORPH) Global Precipitation Analyses Version 0.x', 'ds526.0 Daily Gridded North American Snowfall', 'ds559.0 Four-kilometer long-term regional hydroclimate reanalysis over the conterminous United States (CONUS)', 'ds601.0 NCAR Nested Regional Climate Model (NRCM)', 'ds604.0 NCAR Global Climate Four-Dimensional Data Assimilation (CFDDA) Hourly 40 km Reanalysis', 'ds608.0 NCEP North American Regional Reanalysis (NARR)', 'ds609.2 GCIP NCEP Eta model output', 'ds612.0 High Resolution WRF Simulations of the Current and Future Climate of North America', 'ds613.0 Ensemble Dressing of North American Land Data Assimilation version 2 (EDN2)', 'ds612.5 CONUS (Continental U.S.) II High Resolution Present and Future Climate Simulation', 'ds616.0 Multi-decadal Convection-permitting Simulation of Current Climate over South America using WRF', 'ds626.0 ERA-20C Project (ECMWF Atmospheric Reanalysis of the 20th Century)', 'ds627.0 ERA-Interim Project', 'ds627.1 ERA-Interim Project, Monthly Means', 'ds627.2 ERA-Interim Project, Single Parameter 6-Hourly Surface Analysis and Surface Forecast Time Series', 'ds628.0 Japanese 55-year Reanalysis, Daily 3-Hourly and 6-Hourly Data', 'ds628.1 Japanese 55-year Reanalysis, Monthly Means and Variances', 'ds628.2 JRA-55C: The Japanese 55-year Reanalysis Using Conventional Data Only', 'ds628.3 JRA-55C: Monthly Means and Variances', 'ds628.4 JRA-55AMIP: The Japanese 55-year Reanalysis AMIP-type Simulation', 'ds628.5 JRA-55AMIP: Monthly Means and Variances Including Diurnal Statistics', 'ds629.1 WCRP and WWRP-THORPEX YOTC (Year of Tropical Convection) Project, Single Parameter 6-Hourly Surface Analysis and Surface Forecast Time Series, Transformed to a Regular 1600x800 (N400) Gaussian Grid', 'ds629.2 WCRP and WWRP-THORPEX YOTC (Year of Tropical Convection) Project, Single Parameter 6-Hourly Pressure Level Analysis Time Series, Transformed to a Regular 1600x800 (N400) Gaussian Grid', 'ds629.3 WCRP and WWRP-THORPEX YOTC (Year of Tropical Convection) Project, Single Parameter 6-Hourly Pressure Level Forecast Time Series, Transformed to a Regular 1600x800 (N400) Gaussian Grid', 'ds629.5 WCRP and WWRP-THORPEX YOTC (Year of Tropical Convection) Project, Single Parameter 3-Hourly Surface Forecast Time Series, Transformed to a Regular 1600x800 (N400) Gaussian Grid', 'ds629.6 WCRP and WWRP-THORPEX YOTC (Year of Tropical Convection) Project, Single Parameter 3-Hourly Pressure Level Forecast Time Series, Transformed to a Regular 1600x800 (N400) Gaussian Grid, Dynamical Parameters Only', 'ds630.1 ERA5 Reanalysis Monthly Means', 'ds631.0 Arctic System Reanalysis (ASR) Project', 'ds631.1 Arctic System Reanalysis (ASR) version 2', 'ds633.0 ERA5 Reanalysis (0.25 Degree Latitude-Longitude Grid)', 'ds633.1 ERA5 Reanalysis (Monthly Mean 0.25 Degree Latitude-Longitude Grid)', 'ds633.3 ERA5 Modes of Interannual Variability', 'ds633.4 ERA5 back extension 1950-1978 (Preliminary version)', 'ds645.0 CESM Large Ensemble with Increased Access (LEIA) for Ocean Biogeochemistry', 'ds650.0 SODA Project: SODA3 Ensemble Means and Standard Deviations', 'ds682.0 Regional Anomalies of MOPITT Satellite-measured Carbon Monoxide', 'ds682.3 Hemispheric and regional monthly average carbon monoxide from satellite instruments', 'ds728.2 GPCP Version 2.2 Combined Precipitation Data Set', 'ds745.1 Cross-Calibrated Multi-Platform Ocean Surface Wind Vector Analysis Product V2, 1987 - ongoing ', 'ds841.0 GridRad - Three-Dimensional Gridded NEXRAD WSR-88D Radar Data', 'ds841.1 GridRad - Three-Dimensional Gridded NEXRAD WSR-88D Reflectivity and Spectrum Width', 'ds898.0 Interpretable Deep Learning for Spatial Analysis of Severe Hailstorms: Storm and Analysis Data']\n"
     ]
    }
   ],
   "source": [
    "cat = TDSCatalog('https://rda.ucar.edu/thredds/catalog.xml')\n",
    "print(cat.catalog_refs)"
   ]
  },
  {
   "cell_type": "code",
   "execution_count": 21,
   "id": "86733717",
   "metadata": {},
   "outputs": [
    {
     "name": "stderr",
     "output_type": "stream",
     "text": [
      "/Users/christine/miniconda3/envs/dyndown/lib/python3.11/site-packages/siphon/catalog.py:292: UserWarning: URL https://rda.ucar.edu/thredds/catalog/aggregations/g/ds628.2/6/catalog.html returned HTML. Changing to: https://rda.ucar.edu/thredds/catalog/aggregations/g/ds628.2/6/catalog.xml\n",
      "  warnings.warn('URL {} returned HTML. Changing to: {}'.format(self.catalog_url,\n"
     ]
    },
    {
     "name": "stdout",
     "output_type": "stream",
     "text": [
      "https://rda.ucar.edu\n"
     ]
    }
   ],
   "source": [
    "cat = TDSCatalog(\"https://rda.ucar.edu/thredds/catalog/aggregations/g/ds628.2/6/catalog.html\")\n",
    "print(cat.base_tds_url)"
   ]
  },
  {
   "cell_type": "code",
   "execution_count": 13,
   "id": "3c8b3417-2322-43c8-94af-6578fbdf628e",
   "metadata": {},
   "outputs": [
    {
     "name": "stdout",
     "output_type": "stream",
     "text": [
      "['Best GFS Half Degree Forecast Time Series']\n"
     ]
    }
   ],
   "source": [
    "best_gfs = TDSCatalog('http://thredds.ucar.edu/thredds/catalog/grib/NCEP/GFS/'\n",
    "                      'Global_0p5deg/catalog.xml?dataset=grib/NCEP/GFS/Global_0p5deg/Best')\n",
    "print(best_gfs.datasets)"
   ]
  },
  {
   "cell_type": "code",
   "execution_count": 15,
   "id": "fd29b1ce-a160-4c49-bc4e-0a5cab0ee659",
   "metadata": {},
   "outputs": [],
   "source": [
    "best_ds = best_gfs.datasets[0]\n",
    "ncss = best_ds.subset()\n",
    "query = ncss.query()"
   ]
  },
  {
   "cell_type": "code",
   "execution_count": 18,
   "id": "d08cee88-2553-4e87-9c5d-9bb33f66f4b0",
   "metadata": {},
   "outputs": [
    {
     "data": {
      "text/plain": [
       "{'Absolute_vorticity_isobaric',\n",
       " 'Albedo_surface_Mixed_intervals_Average',\n",
       " 'Apparent_temperature_height_above_ground',\n",
       " 'Best_4_layer_Lifted_Index_surface',\n",
       " 'Categorical_Freezing_Rain_surface',\n",
       " 'Categorical_Freezing_Rain_surface_Mixed_intervals_Average',\n",
       " 'Categorical_Ice_Pellets_surface',\n",
       " 'Categorical_Ice_Pellets_surface_Mixed_intervals_Average',\n",
       " 'Categorical_Rain_surface',\n",
       " 'Categorical_Rain_surface_Mixed_intervals_Average',\n",
       " 'Categorical_Snow_surface',\n",
       " 'Categorical_Snow_surface_Mixed_intervals_Average',\n",
       " 'Cloud_Work_Function_entire_atmosphere_single_layer_Mixed_intervals_Average',\n",
       " 'Cloud_mixing_ratio_hybrid',\n",
       " 'Cloud_mixing_ratio_isobaric',\n",
       " 'Cloud_water_entire_atmosphere_single_layer',\n",
       " 'Composite_reflectivity_entire_atmosphere',\n",
       " 'Convective_Precipitation_Rate_surface_Mixed_intervals_Average',\n",
       " 'Convective_available_potential_energy_pressure_difference_layer',\n",
       " 'Convective_available_potential_energy_surface',\n",
       " 'Convective_inhibition_pressure_difference_layer',\n",
       " 'Convective_inhibition_surface',\n",
       " 'Convective_precipitation_rate_surface',\n",
       " 'Convective_precipitation_surface_Mixed_intervals_Accumulation',\n",
       " 'Dewpoint_temperature_height_above_ground',\n",
       " 'Downward_Long-Wave_Radp_Flux_surface_Mixed_intervals_Average',\n",
       " 'Downward_Short-Wave_Radiation_Flux_surface_Mixed_intervals_Average',\n",
       " 'Field_Capacity_surface',\n",
       " 'Frictional_Velocity_surface',\n",
       " 'Geopotential_height_cloud_ceiling',\n",
       " 'Geopotential_height_highest_tropospheric_freezing',\n",
       " 'Geopotential_height_isobaric',\n",
       " 'Geopotential_height_maximum_wind',\n",
       " 'Geopotential_height_potential_vorticity_surface',\n",
       " 'Geopotential_height_surface',\n",
       " 'Geopotential_height_tropopause',\n",
       " 'Geopotential_height_zeroDegC_isotherm',\n",
       " 'Graupel_snow_pellets_hybrid',\n",
       " 'Graupel_snow_pellets_isobaric',\n",
       " 'Ground_Heat_Flux_surface_Mixed_intervals_Average',\n",
       " 'Haines_index_surface',\n",
       " 'High_cloud_cover_high_cloud',\n",
       " 'High_cloud_cover_high_cloud_Mixed_intervals_Average',\n",
       " 'ICAO_Standard_Atmosphere_Reference_Height_maximum_wind',\n",
       " 'ICAO_Standard_Atmosphere_Reference_Height_tropopause',\n",
       " 'Ice_cover_surface',\n",
       " 'Ice_growth_rate_altitude_above_msl',\n",
       " 'Ice_temperature_surface',\n",
       " 'Ice_thickness_surface',\n",
       " 'Ice_water_mixing_ratio_hybrid',\n",
       " 'Ice_water_mixing_ratio_isobaric',\n",
       " 'Land_cover_0__sea_1__land_surface',\n",
       " 'Latent_heat_net_flux_surface_Mixed_intervals_Average',\n",
       " 'Liquid_Volumetric_Soil_Moisture_non_Frozen_depth_below_surface_layer',\n",
       " 'Low_cloud_cover_low_cloud',\n",
       " 'Low_cloud_cover_low_cloud_Mixed_intervals_Average',\n",
       " 'MSLP_Eta_model_reduction_msl',\n",
       " 'Maximum_temperature_height_above_ground_Mixed_intervals_Maximum',\n",
       " 'Medium_cloud_cover_middle_cloud',\n",
       " 'Medium_cloud_cover_middle_cloud_Mixed_intervals_Average',\n",
       " 'Meridional_Flux_of_Gravity_Wave_Stress_surface_Mixed_intervals_Average',\n",
       " 'Minimum_temperature_height_above_ground_Mixed_intervals_Minimum',\n",
       " 'Momentum_flux_u-component_surface_Mixed_intervals_Average',\n",
       " 'Momentum_flux_v-component_surface_Mixed_intervals_Average',\n",
       " 'Ozone_Mixing_Ratio_isobaric',\n",
       " 'Per_cent_frozen_precipitation_surface',\n",
       " 'Planetary_Boundary_Layer_Height_surface',\n",
       " 'Plant_Canopy_Surface_Water_surface',\n",
       " 'Potential_Evaporation_Rate_surface',\n",
       " 'Potential_temperature_sigma',\n",
       " 'Precipitable_water_entire_atmosphere_single_layer',\n",
       " 'Precipitation_rate_surface',\n",
       " 'Precipitation_rate_surface_Mixed_intervals_Average',\n",
       " 'Pressure_convective_cloud_bottom',\n",
       " 'Pressure_convective_cloud_top',\n",
       " 'Pressure_height_above_ground',\n",
       " 'Pressure_high_cloud_bottom_Mixed_intervals_Average',\n",
       " 'Pressure_high_cloud_top_Mixed_intervals_Average',\n",
       " 'Pressure_low_cloud_bottom_Mixed_intervals_Average',\n",
       " 'Pressure_low_cloud_top_Mixed_intervals_Average',\n",
       " 'Pressure_maximum_wind',\n",
       " 'Pressure_middle_cloud_bottom_Mixed_intervals_Average',\n",
       " 'Pressure_middle_cloud_top_Mixed_intervals_Average',\n",
       " 'Pressure_of_level_from_which_parcel_was_lifted_pressure_difference_layer',\n",
       " 'Pressure_potential_vorticity_surface',\n",
       " 'Pressure_reduced_to_MSL_msl',\n",
       " 'Pressure_surface',\n",
       " 'Pressure_tropopause',\n",
       " 'Rain_mixing_ratio_hybrid',\n",
       " 'Rain_mixing_ratio_isobaric',\n",
       " 'Reflectivity_height_above_ground',\n",
       " 'Reflectivity_hybrid',\n",
       " 'Relative_humidity_entire_atmosphere_single_layer',\n",
       " 'Relative_humidity_height_above_ground',\n",
       " 'Relative_humidity_highest_tropospheric_freezing',\n",
       " 'Relative_humidity_isobaric',\n",
       " 'Relative_humidity_pressure_difference_layer',\n",
       " 'Relative_humidity_sigma',\n",
       " 'Relative_humidity_sigma_layer',\n",
       " 'Relative_humidity_zeroDegC_isotherm',\n",
       " 'Sensible_heat_net_flux_surface_Mixed_intervals_Average',\n",
       " 'Snow_depth_surface',\n",
       " 'Snow_mixing_ratio_hybrid',\n",
       " 'Snow_mixing_ratio_isobaric',\n",
       " 'Soil_temperature_depth_below_surface_layer',\n",
       " 'Soil_type_surface',\n",
       " 'Specific_humidity_height_above_ground',\n",
       " 'Specific_humidity_isobaric',\n",
       " 'Specific_humidity_pressure_difference_layer',\n",
       " 'Storm_relative_helicity_height_above_ground_layer',\n",
       " 'Sunshine_Duration_surface',\n",
       " 'Surface_Lifted_Index_surface',\n",
       " 'Surface_roughness_surface',\n",
       " 'Temperature_altitude_above_msl',\n",
       " 'Temperature_height_above_ground',\n",
       " 'Temperature_high_cloud_top_Mixed_intervals_Average',\n",
       " 'Temperature_isobaric',\n",
       " 'Temperature_low_cloud_top_Mixed_intervals_Average',\n",
       " 'Temperature_maximum_wind',\n",
       " 'Temperature_middle_cloud_top_Mixed_intervals_Average',\n",
       " 'Temperature_potential_vorticity_surface',\n",
       " 'Temperature_pressure_difference_layer',\n",
       " 'Temperature_sigma',\n",
       " 'Temperature_surface',\n",
       " 'Temperature_tropopause',\n",
       " 'Total_cloud_cover_boundary_layer_cloud_Mixed_intervals_Average',\n",
       " 'Total_cloud_cover_convective_cloud',\n",
       " 'Total_cloud_cover_entire_atmosphere',\n",
       " 'Total_cloud_cover_entire_atmosphere_Mixed_intervals_Average',\n",
       " 'Total_cloud_cover_isobaric',\n",
       " 'Total_ozone_entire_atmosphere_single_layer',\n",
       " 'Total_precipitation_surface_Mixed_intervals_Accumulation',\n",
       " 'U-Component_Storm_Motion_height_above_ground_layer',\n",
       " 'Upward_Long-Wave_Radp_Flux_atmosphere_top_Mixed_intervals_Average',\n",
       " 'Upward_Long-Wave_Radp_Flux_surface_Mixed_intervals_Average',\n",
       " 'Upward_Short-Wave_Radiation_Flux_atmosphere_top_Mixed_intervals_Average',\n",
       " 'Upward_Short-Wave_Radiation_Flux_surface_Mixed_intervals_Average',\n",
       " 'V-Component_Storm_Motion_height_above_ground_layer',\n",
       " 'Vegetation_surface',\n",
       " 'Ventilation_Rate_planetary_boundary',\n",
       " 'Vertical_Speed_Shear_potential_vorticity_surface',\n",
       " 'Vertical_Speed_Shear_tropopause',\n",
       " 'Vertical_velocity_geometric_isobaric',\n",
       " 'Vertical_velocity_pressure_isobaric',\n",
       " 'Vertical_velocity_pressure_sigma',\n",
       " 'Visibility_surface',\n",
       " 'Volumetric_Soil_Moisture_Content_depth_below_surface_layer',\n",
       " 'Water_equivalent_of_accumulated_snow_depth_surface',\n",
       " 'Water_runoff_surface_Mixed_intervals_Accumulation',\n",
       " 'Wilting_Point_surface',\n",
       " 'Wind_speed_gust_surface',\n",
       " 'Zonal_Flux_of_Gravity_Wave_Stress_surface_Mixed_intervals_Average',\n",
       " 'u-component_of_wind_altitude_above_msl',\n",
       " 'u-component_of_wind_height_above_ground',\n",
       " 'u-component_of_wind_isobaric',\n",
       " 'u-component_of_wind_maximum_wind',\n",
       " 'u-component_of_wind_planetary_boundary',\n",
       " 'u-component_of_wind_potential_vorticity_surface',\n",
       " 'u-component_of_wind_pressure_difference_layer',\n",
       " 'u-component_of_wind_sigma',\n",
       " 'u-component_of_wind_tropopause',\n",
       " 'v-component_of_wind_altitude_above_msl',\n",
       " 'v-component_of_wind_height_above_ground',\n",
       " 'v-component_of_wind_isobaric',\n",
       " 'v-component_of_wind_maximum_wind',\n",
       " 'v-component_of_wind_planetary_boundary',\n",
       " 'v-component_of_wind_potential_vorticity_surface',\n",
       " 'v-component_of_wind_pressure_difference_layer',\n",
       " 'v-component_of_wind_sigma',\n",
       " 'v-component_of_wind_tropopause'}"
      ]
     },
     "execution_count": 18,
     "metadata": {},
     "output_type": "execute_result"
    }
   ],
   "source": [
    "ncss.variables"
   ]
  },
  {
   "cell_type": "code",
   "execution_count": 19,
   "id": "30e07293-fca9-4bf7-8375-2dcc76e8c19a",
   "metadata": {},
   "outputs": [
    {
     "data": {
      "text/plain": [
       "var=Convective_Precipitation_Rate_surface_Mixed_intervals_Average&temporal=all&west=-150&east=-100&south=41&north=72&accept=netcdf4"
      ]
     },
     "execution_count": 19,
     "metadata": {},
     "output_type": "execute_result"
    }
   ],
   "source": [
    "query.all_times().accept(\"netcdf4\").variables('Convective_Precipitation_Rate_surface_Mixed_intervals_Average')\n",
    "query.lonlat_box(north=72, south=41, east=-100, west=-150)"
   ]
  },
  {
   "cell_type": "code",
   "execution_count": 20,
   "id": "c79e057f-e31a-4946-8aff-5100db69f88b",
   "metadata": {},
   "outputs": [],
   "source": [
    "data = ncss.get_data_raw(query)"
   ]
  },
  {
   "cell_type": "code",
   "execution_count": 22,
   "id": "8f16bab4-d53d-4dcf-8014-a4dea3cdc9d0",
   "metadata": {},
   "outputs": [
    {
     "data": {
      "text/plain": [
       "<class 'netCDF4._netCDF4.Dataset'>\n",
       "root group (NETCDF4_CLASSIC data model, file format HDF5):\n",
       "    Originating_or_generating_Center: US National Weather Service, National Centres for Environmental Prediction (NCEP)\n",
       "    Originating_or_generating_Subcenter: 0\n",
       "    GRIB_table_version: 2,1\n",
       "    Type_of_generating_process: Forecast\n",
       "    Analysis_or_forecast_generating_process_identifier_defined_by_originating_centre: Analysis from GFS (Global Forecast System)\n",
       "    Conventions: CF-1.6\n",
       "    history: Read using CDM IOSP GribCollection v3\n",
       "    featureType: GRID\n",
       "    History: Translated to CF-1.0 Conventions by Netcdf-Java CDM (CFGridCoverageWriter)\n",
       "Original Dataset = GFS-Global_0p5deg#Best; Translation Date = 2023-01-25T23:52:58.517Z\n",
       "    geospatial_lat_min: 40.75\n",
       "    geospatial_lat_max: 72.25\n",
       "    geospatial_lon_min: -150.25\n",
       "    geospatial_lon_max: -99.75\n",
       "    dimensions(sizes): time2(366), bounds_dim(2), latitude(63), longitude(101)\n",
       "    variables(dimensions): float64 time2_bounds(time2, bounds_dim), float64 time2(time2), float32 latitude(latitude), float64 reftime2(time2), float32 longitude(longitude), float32 Convective_Precipitation_Rate_surface_Mixed_intervals_Average(time2, latitude, longitude), int32 LatLon_361X720-0p25S-180p00E-2()\n",
       "    groups: "
      ]
     },
     "execution_count": 22,
     "metadata": {},
     "output_type": "execute_result"
    }
   ],
   "source": [
    "ncss.get_data(query)"
   ]
  },
  {
   "cell_type": "code",
   "execution_count": null,
   "id": "ee84184d-f209-49fe-aff0-dc825cc0a076",
   "metadata": {},
   "outputs": [],
   "source": []
  }
 ],
 "metadata": {
  "kernelspec": {
   "display_name": "Python 3 (ipykernel)",
   "language": "python",
   "name": "python3"
  },
  "language_info": {
   "codemirror_mode": {
    "name": "ipython",
    "version": 3
   },
   "file_extension": ".py",
   "mimetype": "text/x-python",
   "name": "python",
   "nbconvert_exporter": "python",
   "pygments_lexer": "ipython3",
   "version": "3.11.0"
  }
 },
 "nbformat": 4,
 "nbformat_minor": 5
}
